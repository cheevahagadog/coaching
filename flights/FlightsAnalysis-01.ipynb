{
 "cells": [
  {
   "cell_type": "code",
   "execution_count": 1,
   "id": "apart-nicholas",
   "metadata": {},
   "outputs": [],
   "source": [
    "import pandas as pd\n",
    "import numpy as np\n",
    "import collections\n",
    "import re\n",
    "import sqlite3"
   ]
  },
  {
   "cell_type": "code",
   "execution_count": 2,
   "id": "super-malpractice",
   "metadata": {},
   "outputs": [
    {
     "name": "stdout",
     "output_type": "stream",
     "text": [
      "/Users/nathan.cheever/OneDrive - AdvancedMD/ds/open/meetings_trainings_talks/tds/python_trainings\n"
     ]
    }
   ],
   "source": [
    "!pwd"
   ]
  },
  {
   "cell_type": "code",
   "execution_count": 3,
   "id": "domestic-twins",
   "metadata": {},
   "outputs": [],
   "source": [
    "# Change this to your path to the DB file!\n",
    "conn = sqlite3.connect(\"/Users/nathan.cheever/Documents/gitlab/coaching/flights/flights.db\")"
   ]
  },
  {
   "cell_type": "markdown",
   "id": "dried-length",
   "metadata": {},
   "source": [
    "### Load raw data "
   ]
  },
  {
   "cell_type": "code",
   "execution_count": 4,
   "id": "broad-plumbing",
   "metadata": {},
   "outputs": [],
   "source": [
    "# load our datasets\n",
    "# These first four are used as lookup tables\n",
    "airlines =     pd.read_sql('SELECT * FROM airlines', con=conn)\n",
    "airports =     pd.read_sql('SELECT * FROM airports', con=conn)\n",
    "cancel_codes = pd.read_sql('SELECT * FROM cancel_codes', con=conn)\n",
    "carriers =     pd.read_sql('SELECT * FROM carriers', con=conn)\n",
    "# This has all the data about flights\n",
    "flights =      pd.read_sql('SELECT * FROM flights', con=conn)"
   ]
  },
  {
   "cell_type": "code",
   "execution_count": 5,
   "id": "wicked-pepper",
   "metadata": {},
   "outputs": [],
   "source": [
    "#Closing the connection to the db, since we're done using it\n",
    "conn.close()"
   ]
  },
  {
   "cell_type": "markdown",
   "id": "introductory-thermal",
   "metadata": {},
   "source": [
    "### Some transforms to get it ready for analysis"
   ]
  },
  {
   "cell_type": "code",
   "execution_count": 6,
   "id": "separate-couple",
   "metadata": {},
   "outputs": [],
   "source": [
    "# Turn our flights table into a list of dicts\n",
    "# Normally we wouldn't do this, but for the sake of learning to deal with data\n",
    "# structures in Python, we'll do it this way :)\n",
    "flights = flights.to_dict(orient='records')"
   ]
  },
  {
   "cell_type": "markdown",
   "id": "exempt-defensive",
   "metadata": {},
   "source": [
    "### HW 1: Answer the following questions about the `flights` :"
   ]
  },
  {
   "cell_type": "markdown",
   "id": "graphic-tragedy",
   "metadata": {},
   "source": [
    "What datatype is our `flights` object now (a list, dict, etc)?"
   ]
  },
  {
   "cell_type": "markdown",
   "id": "collectible-branch",
   "metadata": {},
   "source": [
    "How many elements are in it?"
   ]
  },
  {
   "cell_type": "markdown",
   "id": "fluid-northern",
   "metadata": {},
   "source": [
    "How can we look at/inspect the first element?"
   ]
  },
  {
   "cell_type": "markdown",
   "id": "eastern-trance",
   "metadata": {},
   "source": [
    "### HW 2: Create dictionaries from our lookup tables, making the `Code` the key and the `Description` the value"
   ]
  },
  {
   "cell_type": "code",
   "execution_count": 7,
   "id": "antique-pride",
   "metadata": {},
   "outputs": [],
   "source": [
    "cancel_codes_dict = dict(zip(cancel_codes.Code, cancel_codes.Description))\n",
    "\n",
    "# Go ahead and create more dictionaries for airlines, airports and carriers where\n",
    "# for each the key will be the `Code` and the value will be the `Description`\n",
    "airlines_dict = dict(zip(airlines.Code, airlines.Description))\n",
    "\n",
    "airports_dict = dict(zip(airports.Code, airports.Description))\n",
    "\n",
    "carriers_dict = dict(zip(carriers.Code, carriers.Description))\n",
    "\n",
    "# When you're done there should be four dicts (cancel_codes_dict, airlines_dict, airports_dict, carriers_dict)"
   ]
  },
  {
   "cell_type": "code",
   "execution_count": 8,
   "id": "czech-ultimate",
   "metadata": {
    "collapsed": true,
    "jupyter": {
     "outputs_hidden": true
    }
   },
   "outputs": [
    {
     "data": {
      "text/plain": [
       "{'DAY_OF_MONTH': 1,\n",
       " 'DAY_OF_WEEK': 3,\n",
       " 'FL_DATE': '2017-02-01',\n",
       " 'UNIQUE_CARRIER': 'B6',\n",
       " 'AIRLINE_ID': 20409,\n",
       " 'FL_NUM': 33,\n",
       " 'ORIGIN_AIRPORT_ID': 10785,\n",
       " 'ORIGIN_CITY_NAME': 'Burlington, VT',\n",
       " 'ORIGIN_STATE_NM': 'Vermont',\n",
       " 'DEST_AIRPORT_ID': 12478,\n",
       " 'DEST_CITY_NAME': 'New York, NY',\n",
       " 'DEST_STATE_NM': 'New York',\n",
       " 'DEP_TIME': 1857.0,\n",
       " 'DEP_DELAY': -10.0,\n",
       " 'TAXI_OUT': 16.0,\n",
       " 'WHEELS_OFF': 1913.0,\n",
       " 'WHEELS_ON': 2019.0,\n",
       " 'TAXI_IN': 10.0,\n",
       " 'ARR_TIME': 2029.0,\n",
       " 'ARR_DELAY': -8.0,\n",
       " 'CANCELLED': 0,\n",
       " 'CANCELLATION_CODE': None,\n",
       " 'DIVERTED': 0,\n",
       " 'ACTUAL_ELAPSED_TIME': 92.0,\n",
       " 'FLIGHTS': 1,\n",
       " 'DISTANCE': 266,\n",
       " 'CARRIER_DELAY': nan,\n",
       " 'WEATHER_DELAY': nan,\n",
       " 'NAS_DELAY': nan,\n",
       " 'SECURITY_DELAY': nan,\n",
       " 'LATE_AIRCRAFT_DELAY': nan,\n",
       " 'Unnamed: 31': None}"
      ]
     },
     "execution_count": 8,
     "metadata": {},
     "output_type": "execute_result"
    }
   ],
   "source": [
    "flights[0]"
   ]
  },
  {
   "cell_type": "markdown",
   "id": "permanent-shakespeare",
   "metadata": {},
   "source": [
    "### Lists"
   ]
  },
  {
   "cell_type": "code",
   "execution_count": 11,
   "id": "demanding-typing",
   "metadata": {
    "collapsed": true,
    "jupyter": {
     "outputs_hidden": true
    }
   },
   "outputs": [
    {
     "data": {
      "text/plain": [
       "[{'DAY_OF_MONTH': 1,\n",
       "  'DAY_OF_WEEK': 3,\n",
       "  'FL_DATE': '2017-02-01',\n",
       "  'UNIQUE_CARRIER': 'B6',\n",
       "  'AIRLINE_ID': 20409,\n",
       "  'FL_NUM': 33,\n",
       "  'ORIGIN_AIRPORT_ID': 10785,\n",
       "  'ORIGIN_CITY_NAME': 'Burlington, VT',\n",
       "  'ORIGIN_STATE_NM': 'Vermont',\n",
       "  'DEST_AIRPORT_ID': 12478,\n",
       "  'DEST_CITY_NAME': 'New York, NY',\n",
       "  'DEST_STATE_NM': 'New York',\n",
       "  'DEP_TIME': 1857.0,\n",
       "  'DEP_DELAY': -10.0,\n",
       "  'TAXI_OUT': 16.0,\n",
       "  'WHEELS_OFF': 1913.0,\n",
       "  'WHEELS_ON': 2019.0,\n",
       "  'TAXI_IN': 10.0,\n",
       "  'ARR_TIME': 2029.0,\n",
       "  'ARR_DELAY': -8.0,\n",
       "  'CANCELLED': 0,\n",
       "  'CANCELLATION_CODE': None,\n",
       "  'DIVERTED': 0,\n",
       "  'ACTUAL_ELAPSED_TIME': 92.0,\n",
       "  'FLIGHTS': 1,\n",
       "  'DISTANCE': 266,\n",
       "  'CARRIER_DELAY': nan,\n",
       "  'WEATHER_DELAY': nan,\n",
       "  'NAS_DELAY': nan,\n",
       "  'SECURITY_DELAY': nan,\n",
       "  'LATE_AIRCRAFT_DELAY': nan,\n",
       "  'Unnamed: 31': None},\n",
       " {'DAY_OF_MONTH': 1,\n",
       "  'DAY_OF_WEEK': 3,\n",
       "  'FL_DATE': '2017-02-01',\n",
       "  'UNIQUE_CARRIER': 'B6',\n",
       "  'AIRLINE_ID': 20409,\n",
       "  'FL_NUM': 34,\n",
       "  'ORIGIN_AIRPORT_ID': 12478,\n",
       "  'ORIGIN_CITY_NAME': 'New York, NY',\n",
       "  'ORIGIN_STATE_NM': 'New York',\n",
       "  'DEST_AIRPORT_ID': 10785,\n",
       "  'DEST_CITY_NAME': 'Burlington, VT',\n",
       "  'DEST_STATE_NM': 'Vermont',\n",
       "  'DEP_TIME': 1656.0,\n",
       "  'DEP_DELAY': -10.0,\n",
       "  'TAXI_OUT': 23.0,\n",
       "  'WHEELS_OFF': 1719.0,\n",
       "  'WHEELS_ON': 1808.0,\n",
       "  'TAXI_IN': 6.0,\n",
       "  'ARR_TIME': 1814.0,\n",
       "  'ARR_DELAY': -13.0,\n",
       "  'CANCELLED': 0,\n",
       "  'CANCELLATION_CODE': None,\n",
       "  'DIVERTED': 0,\n",
       "  'ACTUAL_ELAPSED_TIME': 78.0,\n",
       "  'FLIGHTS': 1,\n",
       "  'DISTANCE': 266,\n",
       "  'CARRIER_DELAY': nan,\n",
       "  'WEATHER_DELAY': nan,\n",
       "  'NAS_DELAY': nan,\n",
       "  'SECURITY_DELAY': nan,\n",
       "  'LATE_AIRCRAFT_DELAY': nan,\n",
       "  'Unnamed: 31': None},\n",
       " {'DAY_OF_MONTH': 1,\n",
       "  'DAY_OF_WEEK': 3,\n",
       "  'FL_DATE': '2017-02-01',\n",
       "  'UNIQUE_CARRIER': 'B6',\n",
       "  'AIRLINE_ID': 20409,\n",
       "  'FL_NUM': 42,\n",
       "  'ORIGIN_AIRPORT_ID': 12954,\n",
       "  'ORIGIN_CITY_NAME': 'Long Beach, CA',\n",
       "  'ORIGIN_STATE_NM': 'California',\n",
       "  'DEST_AIRPORT_ID': 14570,\n",
       "  'DEST_CITY_NAME': 'Reno, NV',\n",
       "  'DEST_STATE_NM': 'Nevada',\n",
       "  'DEP_TIME': 909.0,\n",
       "  'DEP_DELAY': -3.0,\n",
       "  'TAXI_OUT': 14.0,\n",
       "  'WHEELS_OFF': 923.0,\n",
       "  'WHEELS_ON': 1026.0,\n",
       "  'TAXI_IN': 4.0,\n",
       "  'ARR_TIME': 1030.0,\n",
       "  'ARR_DELAY': -9.0,\n",
       "  'CANCELLED': 0,\n",
       "  'CANCELLATION_CODE': None,\n",
       "  'DIVERTED': 0,\n",
       "  'ACTUAL_ELAPSED_TIME': 81.0,\n",
       "  'FLIGHTS': 1,\n",
       "  'DISTANCE': 402,\n",
       "  'CARRIER_DELAY': nan,\n",
       "  'WEATHER_DELAY': nan,\n",
       "  'NAS_DELAY': nan,\n",
       "  'SECURITY_DELAY': nan,\n",
       "  'LATE_AIRCRAFT_DELAY': nan,\n",
       "  'Unnamed: 31': None}]"
      ]
     },
     "execution_count": 11,
     "metadata": {},
     "output_type": "execute_result"
    }
   ],
   "source": [
    "flights[:3]"
   ]
  },
  {
   "cell_type": "code",
   "execution_count": 9,
   "id": "quick-venue",
   "metadata": {},
   "outputs": [],
   "source": [
    "my_list = [1, 'a', pd.DataFrame(), [1, 2, 3], {}, ]"
   ]
  },
  {
   "cell_type": "code",
   "execution_count": 12,
   "id": "failing-politics",
   "metadata": {},
   "outputs": [],
   "source": [
    "my_list.append('Jake')"
   ]
  },
  {
   "cell_type": "code",
   "execution_count": 14,
   "id": "mediterranean-profile",
   "metadata": {},
   "outputs": [],
   "source": [
    "my_list.reverse()"
   ]
  },
  {
   "cell_type": "code",
   "execution_count": 15,
   "id": "excellent-charleston",
   "metadata": {
    "collapsed": true,
    "jupyter": {
     "outputs_hidden": true
    }
   },
   "outputs": [
    {
     "data": {
      "text/plain": [
       "['Jake',\n",
       " {},\n",
       " [1, 2, 3],\n",
       " Empty DataFrame\n",
       " Columns: []\n",
       " Index: [],\n",
       " 'a',\n",
       " 1]"
      ]
     },
     "execution_count": 15,
     "metadata": {},
     "output_type": "execute_result"
    }
   ],
   "source": [
    "my_list"
   ]
  },
  {
   "cell_type": "markdown",
   "id": "palestinian-madison",
   "metadata": {},
   "source": [
    "The one downside of lists... _n_ elements: O(n)"
   ]
  },
  {
   "cell_type": "code",
   "execution_count": 16,
   "id": "attractive-count",
   "metadata": {},
   "outputs": [
    {
     "data": {
      "text/plain": [
       "410517"
      ]
     },
     "execution_count": 16,
     "metadata": {},
     "output_type": "execute_result"
    }
   ],
   "source": [
    "len(flights)"
   ]
  },
  {
   "cell_type": "code",
   "execution_count": 18,
   "id": "scientific-selling",
   "metadata": {},
   "outputs": [
    {
     "data": {
      "text/plain": [
       "{'DAY_OF_MONTH': 1,\n",
       " 'DAY_OF_WEEK': 3,\n",
       " 'FL_DATE': '2017-02-01',\n",
       " 'UNIQUE_CARRIER': 'DL',\n",
       " 'AIRLINE_ID': 19790,\n",
       " 'FL_NUM': 763,\n",
       " 'ORIGIN_AIRPORT_ID': 12323,\n",
       " 'ORIGIN_CITY_NAME': 'Wilmington, NC',\n",
       " 'ORIGIN_STATE_NM': 'North Carolina',\n",
       " 'DEST_AIRPORT_ID': 10397,\n",
       " 'DEST_CITY_NAME': 'Atlanta, GA',\n",
       " 'DEST_STATE_NM': 'Georgia',\n",
       " 'DEP_TIME': 707.0,\n",
       " 'DEP_DELAY': -8.0,\n",
       " 'TAXI_OUT': 16.0,\n",
       " 'WHEELS_OFF': 723.0,\n",
       " 'WHEELS_ON': 826.0,\n",
       " 'TAXI_IN': 10.0,\n",
       " 'ARR_TIME': 836.0,\n",
       " 'ARR_DELAY': -23.0,\n",
       " 'CANCELLED': 0,\n",
       " 'CANCELLATION_CODE': None,\n",
       " 'DIVERTED': 0,\n",
       " 'ACTUAL_ELAPSED_TIME': 89.0,\n",
       " 'FLIGHTS': 1,\n",
       " 'DISTANCE': 377,\n",
       " 'CARRIER_DELAY': nan,\n",
       " 'WEATHER_DELAY': nan,\n",
       " 'NAS_DELAY': nan,\n",
       " 'SECURITY_DELAY': nan,\n",
       " 'LATE_AIRCRAFT_DELAY': nan,\n",
       " 'Unnamed: 31': None}"
      ]
     },
     "execution_count": 18,
     "metadata": {},
     "output_type": "execute_result"
    }
   ],
   "source": [
    "flights[999]"
   ]
  },
  {
   "cell_type": "code",
   "execution_count": null,
   "id": "breeding-portal",
   "metadata": {},
   "outputs": [],
   "source": []
  },
  {
   "cell_type": "code",
   "execution_count": 7,
   "id": "contrary-format",
   "metadata": {},
   "outputs": [],
   "source": [
    "cancel_codes_dict = dict(zip(cancel_codes.Code, cancel_codes.Description))\n",
    "\n",
    "# Go ahead and create more dictionaries for airlines, airports and carriers where\n",
    "# for each the key will be the `Code` and the value will be the `Description`\n",
    "airlines_dict = dict(zip(airlines.Code, airlines.Description))\n",
    "airports_dict = dict(zip(airports.Code, airports.Description))\n",
    "carriers_dict = dict(zip(carriers.Code, carriers.Description))\n",
    "\n",
    "# When you're done there should be four dicts (cancel_codes_dict, airlines_dict, airports_dict, carriers_dict)"
   ]
  },
  {
   "cell_type": "code",
   "execution_count": 19,
   "id": "infectious-bubble",
   "metadata": {},
   "outputs": [
    {
     "data": {
      "text/plain": [
       "{'A': 'Carrier', 'B': 'Weather', 'C': 'National Air System', 'D': 'Security'}"
      ]
     },
     "execution_count": 19,
     "metadata": {},
     "output_type": "execute_result"
    }
   ],
   "source": [
    "cancel_codes_dict"
   ]
  },
  {
   "cell_type": "code",
   "execution_count": 29,
   "id": "recognized-bench",
   "metadata": {
    "collapsed": true,
    "jupyter": {
     "outputs_hidden": true
    }
   },
   "outputs": [
    {
     "ename": "KeyError",
     "evalue": "'E'",
     "output_type": "error",
     "traceback": [
      "\u001b[0;31m---------------------------------------------------------------------------\u001b[0m",
      "\u001b[0;31mKeyError\u001b[0m                                  Traceback (most recent call last)",
      "\u001b[0;32m<ipython-input-29-2e7a4a17696e>\u001b[0m in \u001b[0;36m<module>\u001b[0;34m\u001b[0m\n\u001b[0;32m----> 1\u001b[0;31m \u001b[0mcancel_codes_dict\u001b[0m\u001b[0;34m[\u001b[0m\u001b[0;34m'E'\u001b[0m\u001b[0;34m]\u001b[0m\u001b[0;34m\u001b[0m\u001b[0;34m\u001b[0m\u001b[0m\n\u001b[0m",
      "\u001b[0;31mKeyError\u001b[0m: 'E'"
     ]
    }
   ],
   "source": [
    "cancel_codes_dict['E']"
   ]
  },
  {
   "cell_type": "code",
   "execution_count": 30,
   "id": "reserved-expression",
   "metadata": {},
   "outputs": [
    {
     "data": {
      "text/plain": [
       "'missing!'"
      ]
     },
     "execution_count": 30,
     "metadata": {},
     "output_type": "execute_result"
    }
   ],
   "source": [
    "cancel_codes_dict.get('E', 'missing!')"
   ]
  },
  {
   "cell_type": "markdown",
   "id": "signal-plaza",
   "metadata": {},
   "source": [
    "### HW 3: Add in our dictionary mappings to our `flights` data\n",
    "Using our mappings, please create the following new keys in each 'row' of flights with the appropriate value:\n",
    " - AIRLINE_NAME\n",
    " - ORIGIN_AIRPORT_NAME\n",
    " - CARRIER_NAME\n",
    " - CANCELLATION_REASON"
   ]
  },
  {
   "cell_type": "code",
   "execution_count": 35,
   "id": "collected-calendar",
   "metadata": {},
   "outputs": [
    {
     "data": {
      "text/plain": [
       "'B6'"
      ]
     },
     "execution_count": 35,
     "metadata": {},
     "output_type": "execute_result"
    }
   ],
   "source": [
    "flights[0]['UNIQUE_CARRIER']"
   ]
  },
  {
   "cell_type": "code",
   "execution_count": 38,
   "id": "twenty-joyce",
   "metadata": {},
   "outputs": [
    {
     "data": {
      "text/plain": [
       "'JetBlue Airways'"
      ]
     },
     "execution_count": 38,
     "metadata": {},
     "output_type": "execute_result"
    }
   ],
   "source": [
    "carriers_dict['B6']"
   ]
  },
  {
   "cell_type": "code",
   "execution_count": 44,
   "id": "valid-hanging",
   "metadata": {},
   "outputs": [],
   "source": [
    "for row_dict in flights:\n",
    "    # Here we match codes to loop up description values from dictionaries\n",
    "    row_dict['AIRLINE_NAME'] = airlines_dict.get(row_dict['AIRLINE_ID'])\n",
    "    row_dict['CARRIER_NAME'] = carriers_dict.get(row_dict['UNIQUE_CARRIER'])\n",
    "    row_dict['ORIGIN_AIRPORT_NAME'] = airports_dict.get(row_dict['ORIGIN_AIRPORT_ID'])\n",
    "    row_dict['CANCELLATION_REASON'] = cancel_codes_dict.get(row_dict['CANCELLATION_CODE'], 'No reason')\n",
    "    \n",
    "# Here I use the .get() method for key value lookups. It's a safe bet, especially on cancel_codes_dict, since not all flights\n",
    "# were cancelled. If you use the cancel_codes_dict[row_dict['CANCELLATION_CODE']] and that flight dict has None as it's value for 'CANCELLATION_CODE', \n",
    "# then it's equivalent to cancel_codes_dict[ None ], and since None isn't a key in that dict, you'll get a program-halting \"KeyError\".\n",
    "\n",
    "# With the .get() method, if the key isn't found in your dict, it will return None, or a specified default value. I've set mine to be 'No reason'."
   ]
  },
  {
   "cell_type": "markdown",
   "id": "willing-vinyl",
   "metadata": {},
   "source": [
    "### Question 1: What are the unique airlines? \n",
    "Using the `AIRLINE_NAME` field"
   ]
  },
  {
   "cell_type": "code",
   "execution_count": 71,
   "id": "streaming-canon",
   "metadata": {},
   "outputs": [
    {
     "data": {
      "text/plain": [
       "{'Alaska Airlines Inc.: AS',\n",
       " 'American Airlines Inc.: AA',\n",
       " 'Delta Air Lines Inc.: DL',\n",
       " 'ExpressJet Airlines Inc.: EV',\n",
       " 'Frontier Airlines Inc.: F9',\n",
       " 'Hawaiian Airlines Inc.: HA',\n",
       " 'JetBlue Airways: B6',\n",
       " 'SkyWest Airlines Inc.: OO',\n",
       " 'Southwest Airlines Co.: WN',\n",
       " 'Spirit Air Lines: NK',\n",
       " 'United Air Lines Inc.: UA',\n",
       " 'Virgin America: VX'}"
      ]
     },
     "execution_count": 71,
     "metadata": {},
     "output_type": "execute_result"
    }
   ],
   "source": [
    "# We can use a set comprehension\n",
    "{ row['AIRLINE_NAME'] for row in flights}"
   ]
  },
  {
   "cell_type": "markdown",
   "id": "educational-likelihood",
   "metadata": {},
   "source": [
    "### Question 2: Which flight had the longest departure delay?"
   ]
  },
  {
   "cell_type": "code",
   "execution_count": 69,
   "id": "proof-integral",
   "metadata": {},
   "outputs": [
    {
     "name": "stdout",
     "output_type": "stream",
     "text": [
      "82.3 ms ± 3.59 ms per loop (mean ± std. dev. of 7 runs, 10 loops each)\n"
     ]
    }
   ],
   "source": [
    "%%timeit \n",
    "\n",
    "max_delay = 0\n",
    "flight_ = None\n",
    "\n",
    "for i in flights:\n",
    "#     # Version 1: two lookups of i['DEP_DELAY']\n",
    "#     if i['DEP_DELAY'] > max_delay:\n",
    "#         max_delay = i['DEP_DELAY']\n",
    "#         flight_ = i\n",
    "        \n",
    "#     # Version 2: variable assignment\n",
    "#     dep_delay = i['DEP_DELAY']\n",
    "#     if dep_delay > max_delay:\n",
    "#         max_delay = dep_delay\n",
    "#         flight_ = i\n",
    "    \n",
    "    # Version 3: Walrus Operator!\n",
    "    if (dep_delay := i['DEP_DELAY']) > max_delay:\n",
    "        max_delay = dep_delay\n",
    "        flight_ = i"
   ]
  },
  {
   "cell_type": "code",
   "execution_count": 72,
   "id": "empty-grace",
   "metadata": {},
   "outputs": [
    {
     "name": "stdout",
     "output_type": "stream",
     "text": [
      "109 ms ± 1.83 ms per loop (mean ± std. dev. of 7 runs, 1 loop each)\n"
     ]
    }
   ],
   "source": [
    "%%timeit\n",
    "# Here's a one liner\n",
    "max(flights, key=lambda d: d['DEP_DELAY'])"
   ]
  },
  {
   "cell_type": "markdown",
   "id": "dietary-mentor",
   "metadata": {},
   "source": [
    "### Question 3: Which carrier had the most time delay due to weather? What are the top 10?"
   ]
  },
  {
   "cell_type": "code",
   "execution_count": null,
   "id": "certified-madonna",
   "metadata": {},
   "outputs": [],
   "source": []
  }
 ],
 "metadata": {
  "kernelspec": {
   "display_name": "Python 3",
   "language": "python",
   "name": "python3"
  },
  "language_info": {
   "codemirror_mode": {
    "name": "ipython",
    "version": 3
   },
   "file_extension": ".py",
   "mimetype": "text/x-python",
   "name": "python",
   "nbconvert_exporter": "python",
   "pygments_lexer": "ipython3",
   "version": "3.8.3"
  },
  "toc-autonumbering": false
 },
 "nbformat": 4,
 "nbformat_minor": 5
}
